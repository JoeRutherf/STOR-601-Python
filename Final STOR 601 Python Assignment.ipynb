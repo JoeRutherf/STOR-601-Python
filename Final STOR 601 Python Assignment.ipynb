{
 "cells": [
  {
   "cell_type": "markdown",
   "id": "a06d1ad3-6271-449e-b9ed-f5764119bf6e",
   "metadata": {},
   "source": [
    "# STOR 601 Python Assignment"
   ]
  },
  {
   "cell_type": "markdown",
   "id": "bb8f7e0e-9a71-4b1c-9812-8d5d0a3ae6c6",
   "metadata": {},
   "source": [
    "## Joe Rutherford"
   ]
  },
  {
   "cell_type": "markdown",
   "id": "3d172149-9bd2-4e50-a254-83411c159c87",
   "metadata": {},
   "source": [
    "### Task 1 "
   ]
  },
  {
   "cell_type": "markdown",
   "id": "1fd2b205-28f0-4b96-a99d-f2b8ffe4fc48",
   "metadata": {},
   "source": [
    "We have $n$ men and $n$ women."
   ]
  },
  {
   "cell_type": "markdown",
   "id": "bdd7504d-d4ba-4a95-b09a-649e4e16a97e",
   "metadata": {},
   "source": [
    "Man 1 is able to be paired with one of the $n$ women. After that pairing, Man 2 is able to be paired with one of the $(n-1)$ remaining women, and so on, until man $(n-1)$ is able to be paired with one of the 2 remaining women, and man $n$ is able to be paired with just the 1 remaining woman."
   ]
  },
  {
   "cell_type": "markdown",
   "id": "00efa80a-4d1a-4f34-99a4-6a58ce9b7c42",
   "metadata": {},
   "source": [
    "Therefore, the maximum number of matches is equal to $n \\cdot (n-1) \\cdot ... \\cdot 2 \\cdot 1 = n!$. These matches can be stable or unstable, and so the number of stable matches is bounded by the number of  overall matches. Hence, the upperbound of the maximum number of stable matchings is $n!$."
   ]
  },
  {
   "cell_type": "markdown",
   "id": "86210be1-0df5-4544-92b8-e8db6b1db2b4",
   "metadata": {},
   "source": [
    "### Task 2"
   ]
  },
  {
   "cell_type": "markdown",
   "id": "fc3aec50-44e5-4866-a33f-1a27de971f3f",
   "metadata": {},
   "source": [
    "#### Part a"
   ]
  },
  {
   "cell_type": "markdown",
   "id": "e681ddd0-f9b8-469e-8b82-fa098323000b",
   "metadata": {},
   "source": [
    "If we have two preference tables, one called men_choices and the other called women_choices, and a set of matchings, called pairings, the following code is able to identify if the matching is stable."
   ]
  },
  {
   "cell_type": "code",
   "execution_count": 35,
   "id": "26b843d7-0b2b-4163-a878-aa2d04778acf",
   "metadata": {},
   "outputs": [],
   "source": [
    "def IS_STABLE(men_choices,women_choices,pairings):\n",
    "    V=[]\n",
    "    for x in range(len(pairings)):\n",
    "        m = pairings[x][0]\n",
    "        w = pairings[x][1]\n",
    "        i=men_choices[m].index(w)\n",
    "        if i==0:\n",
    "            V.append(\"T\")\n",
    "        else:\n",
    "            men_preferred_choices=men_choices[m][:i]\n",
    "            for p in men_preferred_choices:\n",
    "                s = [i for i in pairings if p in i]\n",
    "                h=s[0][0]\n",
    "                if women_choices[p].index(m) < women_choices[p].index(h):\n",
    "                    V.append(\"F\")\n",
    "                else: \n",
    "                    V.append(\"T\")\n",
    "    if \"F\" in V:\n",
    "        return(\"Not stable\")\n",
    "    else:\n",
    "        return(\"Stable\")"
   ]
  },
  {
   "cell_type": "markdown",
   "id": "d419638a-8db6-4591-b20f-b50de44fa971",
   "metadata": {},
   "source": [
    "By using the following two preference tables and two potential matching sets, the function IS_STABLE is able to identify whether each of them are stable matchings or not."
   ]
  },
  {
   "cell_type": "code",
   "execution_count": 36,
   "id": "ffb657f0-0cb8-4093-9e0b-f8a89231ad85",
   "metadata": {},
   "outputs": [
    {
     "data": {
      "text/plain": [
       "'Stable'"
      ]
     },
     "execution_count": 36,
     "metadata": {},
     "output_type": "execute_result"
    }
   ],
   "source": [
    "men_preferences = {\n",
    " 'A':   ['F','G','H','I','J'],\n",
    " 'B':   ['G','H','I','J','F'],\n",
    " 'C':   ['H','I','J','F','G'],\n",
    " 'D':   ['I','J','F','G','H'],\n",
    " 'E':   ['J','F','G','H','I']\n",
    " }\n",
    "women_preferences = {\n",
    "    'F': ['B','C','D','E','A'],\n",
    "    \n",
    "    'G': ['C','D','E','A','B'],\n",
    "    'H': ['D','E','A','B','C'],\n",
    "    'I': ['E','A','B','C','D'],\n",
    "    'J': ['A','B','C','D','E']\n",
    "}\n",
    "pairings_1 = [('A', 'F'),('B','G'),('C','H'),('D','I'),('E','J')]\n",
    "pairings_2 = [('A', 'F'),('B','G'),('C','H'),('D','J'),('E','I')]\n",
    "IS_STABLE(men_preferences,women_preferences,pairings_1)"
   ]
  },
  {
   "cell_type": "code",
   "execution_count": 37,
   "id": "8e9254f0-fa68-4a25-83ab-d9838ab1aa8d",
   "metadata": {},
   "outputs": [
    {
     "data": {
      "text/plain": [
       "'Not stable'"
      ]
     },
     "execution_count": 37,
     "metadata": {},
     "output_type": "execute_result"
    }
   ],
   "source": [
    "IS_STABLE(men_preferences,women_preferences,pairings_2)"
   ]
  },
  {
   "cell_type": "markdown",
   "id": "e36f2e1a-aabe-4049-9a71-ff935dab04dc",
   "metadata": {},
   "source": [
    "The IS_STABLE function shows that for the two preference tables, the first set of matchings is stable, while the second set of matchings is not stable."
   ]
  },
  {
   "cell_type": "markdown",
   "id": "74ba4a51-2219-4d0c-87c1-2b319e8a03ce",
   "metadata": {},
   "source": [
    "#### Part b"
   ]
  },
  {
   "cell_type": "markdown",
   "id": "e8bf48d4-09ed-4e19-a44f-afd15bdcc67d",
   "metadata": {},
   "source": [
    "In the IS_STABLE function, the men_choices and women_choices inputs are dictionaries. These were chosen as dictionaries because it is an easy and efficient way to map each person to their own preferences, and it makes it easy to extract information from the keys and values from each preference table."
   ]
  },
  {
   "cell_type": "markdown",
   "id": "775acdf3-c4af-482a-a993-cc5927211f2c",
   "metadata": {},
   "source": [
    "The pairings input is a list, where each element is a tuple containing the names of the two people paired for a marriage. A list was chosen to represent this because it is a good way to collect all of the marriages in one set."
   ]
  },
  {
   "cell_type": "markdown",
   "id": "e6e556ff-f502-4817-a1f4-cb113d554ae0",
   "metadata": {},
   "source": [
    "At the start of the function, the list V is introduced, which finishes as a list of \"T\"s and \"F\"s. This is a list as, again, it is a good way to collect whether each individual marriage is stable or unstable, to eventually see whether the overall set of matchings is stable or not."
   ]
  },
  {
   "cell_type": "markdown",
   "id": "345c5cf1-6758-4e00-a707-55f5ec3e0928",
   "metadata": {},
   "source": [
    "#### Part c"
   ]
  },
  {
   "cell_type": "markdown",
   "id": "69708379-dfb7-4dde-84ed-0f7553cb027f",
   "metadata": {},
   "source": [
    "From the code given for the IS_STABLE function, it has two 'for' loops, one imbedded in the other. In the worst case scenario, each loop runs $n$ times, and due to one being imbedded in the other, the function has complexity $O(n^2)$."
   ]
  },
  {
   "cell_type": "markdown",
   "id": "15b03e43-653c-4989-8700-0ad3332ef304",
   "metadata": {},
   "source": [
    "### Task 3"
   ]
  },
  {
   "cell_type": "markdown",
   "id": "51099e51-9645-4eb9-a52a-ffdcce720a43",
   "metadata": {},
   "source": [
    "#### Part a"
   ]
  },
  {
   "cell_type": "markdown",
   "id": "1886175e-7812-438c-be9b-82ad1d3b6f41",
   "metadata": {},
   "source": [
    "If we have two preference tables, the STABLE_MATCHINGS function below is able to list all the stable matchings of those tables."
   ]
  },
  {
   "cell_type": "code",
   "execution_count": 38,
   "id": "5d078700-48cd-4a08-a1c0-32ea8bd6bbee",
   "metadata": {},
   "outputs": [],
   "source": [
    "from itertools import permutations\n",
    "\n",
    "def STABLE_MATCHINGS(men_choices,women_choices):\n",
    "\n",
    "    all_pairings = [sorted(zip(i, women_choices)) for i in permutations(men_choices)]\n",
    "    U=[]\n",
    "    for pairings in all_pairings:\n",
    "        V=[]\n",
    "        for x in range(len(pairings)):\n",
    "            m = pairings[x][0]\n",
    "            w = pairings[x][1]\n",
    "            i=men_choices[m].index(w)\n",
    "            if i==0:\n",
    "                V.append(\"T\")\n",
    "            else:\n",
    "                men_preferred_choices=men_choices[m][:i]\n",
    "                for p in men_preferred_choices:\n",
    "                    s = [i for i in pairings if p in i]\n",
    "                    h=s[0][0]\n",
    "                    if women_choices[p].index(m) < women_choices[p].index(h):\n",
    "                        V.append(\"F\")\n",
    "                    else: \n",
    "                        V.append(\"T\")\n",
    "        if \"F\" not in V:\n",
    "            U.append(pairings)\n",
    "    return(U)"
   ]
  },
  {
   "cell_type": "markdown",
   "id": "8bd7e0bf-a3e6-4a1f-8550-7d279ff25c30",
   "metadata": {},
   "source": [
    "This function can be tested on the two preference tables from task 2:"
   ]
  },
  {
   "cell_type": "code",
   "execution_count": 39,
   "id": "36c1fa26-e7db-4aa5-85de-18d5e0389293",
   "metadata": {},
   "outputs": [
    {
     "data": {
      "text/plain": [
       "[[('A', 'F'), ('B', 'G'), ('C', 'H'), ('D', 'I'), ('E', 'J')],\n",
       " [('A', 'J'), ('B', 'F'), ('C', 'G'), ('D', 'H'), ('E', 'I')],\n",
       " [('A', 'I'), ('B', 'J'), ('C', 'F'), ('D', 'G'), ('E', 'H')],\n",
       " [('A', 'H'), ('B', 'I'), ('C', 'J'), ('D', 'F'), ('E', 'G')],\n",
       " [('A', 'G'), ('B', 'H'), ('C', 'I'), ('D', 'J'), ('E', 'F')]]"
      ]
     },
     "execution_count": 39,
     "metadata": {},
     "output_type": "execute_result"
    }
   ],
   "source": [
    "STABLE_MATCHINGS(men_preferences,women_preferences)"
   ]
  },
  {
   "cell_type": "markdown",
   "id": "bee0cece-341e-4d91-8f91-95bca4790bbf",
   "metadata": {},
   "source": [
    "We can see that for those two preference tables, there are 5 stable mathings. The top set of matches given as an output is one of the matchings that were tested in task 2, which the IS_STABLE function clarified was indeed stable for the same preference tables."
   ]
  },
  {
   "cell_type": "markdown",
   "id": "0df26ff7-6c00-4381-962d-70c4f02ac264",
   "metadata": {},
   "source": [
    "#### Part b"
   ]
  },
  {
   "cell_type": "markdown",
   "id": "0212df03-79e3-43c0-ba48-bdfa8687b8b4",
   "metadata": {},
   "source": [
    "Similarly to task 2, the inputs men_choices and women_choices are dictionaries, because that makes it easier to extract information from the keys and values in the dictionaries."
   ]
  },
  {
   "cell_type": "markdown",
   "id": "fb656222-649e-4c7e-aaee-78024e7454d8",
   "metadata": {},
   "source": [
    "Also similarly to task 2, V is a list again, and we introduce the list all_pairings, which is a list of every possible matching that can be made from the keys in the two preference tables. This function also uses the list U to store all of the stable matchings to be returned. These lists make it easy to collect important information and store it in one place to be analysed later."
   ]
  },
  {
   "cell_type": "markdown",
   "id": "a476eb9f-a65e-4112-881d-b49e902d5fa2",
   "metadata": {},
   "source": [
    "#### Part c"
   ]
  },
  {
   "cell_type": "markdown",
   "id": "5d02f8f3-397e-4eba-a22f-69e972ed7625",
   "metadata": {},
   "source": [
    "For the code given, there are two 'for' loops, again one imbedded in the other. In the worst case, the first loop tuns $n$ times, and the loop imbedded in that run $(n-1)$ times, so  we could assume it has complexity $O(n^2)$, but this is incorrect. In Task 1, the loops only looped over one set of matchings, however the STABLE_MATCHINGS algorithm loops over $n!$ matchings in the worst case scenario. Therefore, the complexity of STABLE_MATCHINGS is $O(n!\\cdot n^2)$=$O(n!n^2)$."
   ]
  },
  {
   "cell_type": "markdown",
   "id": "e25dd91d-9c46-4cf3-ac5d-3de9349d8b7f",
   "metadata": {},
   "source": [
    "### Task 4"
   ]
  },
  {
   "cell_type": "markdown",
   "id": "2a56eb56-71b8-4c4c-9e28-463b92e8fc54",
   "metadata": {},
   "source": [
    "By giving two distinct and mutually disjoint sets with the same numberof elements, the code Random_Preference_Tables below is able to randomly produce two preference tables of those sets."
   ]
  },
  {
   "cell_type": "code",
   "execution_count": 40,
   "id": "23d36695-4034-401e-9c1c-6c1a566fbda5",
   "metadata": {},
   "outputs": [],
   "source": [
    "import random\n",
    "\n",
    "def Random_Preference_Tables(X,Y):\n",
    "    n=len(X)\n",
    "    table_1 = dict()\n",
    "    table_2 = dict()\n",
    "    \n",
    "    for x in X:\n",
    "        table_1[x]=random.sample(Y,n)\n",
    "\n",
    "    for y in Y:\n",
    "        table_2[y]=random.sample(X,n)\n",
    "\n",
    "    return(dict(table_1),dict(table_2))"
   ]
  },
  {
   "cell_type": "markdown",
   "id": "72323342-9c12-451e-8c4f-b4cd8b80a033",
   "metadata": {},
   "source": [
    "We can find use the sets X = [ 'A' , 'B' , 'C' , 'D' ] and Y = [ 'a' , 'b' , 'c' , 'd' ] to produce two random preference tables:"
   ]
  },
  {
   "cell_type": "code",
   "execution_count": 41,
   "id": "9966539b-0fce-49e1-8f96-f0d04468689f",
   "metadata": {},
   "outputs": [
    {
     "data": {
      "text/plain": [
       "({'A': ['d', 'b', 'a', 'c'],\n",
       "  'B': ['d', 'b', 'a', 'c'],\n",
       "  'C': ['d', 'c', 'b', 'a'],\n",
       "  'D': ['c', 'a', 'b', 'd']},\n",
       " {'a': ['C', 'A', 'D', 'B'],\n",
       "  'b': ['D', 'B', 'A', 'C'],\n",
       "  'c': ['A', 'D', 'B', 'C'],\n",
       "  'd': ['D', 'A', 'B', 'C']})"
      ]
     },
     "execution_count": 41,
     "metadata": {},
     "output_type": "execute_result"
    }
   ],
   "source": [
    "X = ['A','B','C','D']\n",
    "Y = ['a','b','c','d']\n",
    "Random_Preference_Tables(X,Y)"
   ]
  },
  {
   "cell_type": "markdown",
   "id": "0eee7389-e87d-46c8-ac5e-2059cf11b156",
   "metadata": {},
   "source": [
    "### Task 5"
   ]
  },
  {
   "cell_type": "markdown",
   "id": "3cf327de-c9dc-4996-8fe1-7c5d3f27a71e",
   "metadata": {},
   "source": [
    "To improve the replicability of the solutions to Tasks 2 and 3, it is good practise to provide pseudocode so that people can easily understand the process that the function goes through to produce their own code to find a solution. This makes it easier for people to understand, rather than just supplying the code itself, and sometimes even writing notes by the side of the code isn't able to make the actual code more understandable as effectively as writing pseudocode."
   ]
  },
  {
   "cell_type": "markdown",
   "id": "bd4525b0-a40b-4967-9d5f-43acfceae1bc",
   "metadata": {},
   "source": [
    "Below is the pseudocode for the IS_STABLE function given in Task 2:"
   ]
  },
  {
   "cell_type": "raw",
   "id": "74180261-4e1e-4a6f-88b5-f29bacf57773",
   "metadata": {},
   "source": [
    "BEGIN\n",
    "for every coupled pair in the matching: \n",
    "    m = the man in each pairing \n",
    "    w = the woman in each pairing \n",
    "    i = the ranking man m gave woman w in his preference list\n",
    "    if m ranked w as their first preference then\n",
    "        the couple (m,w) is a stable couple\n",
    "    if m did not rank w as their first preference then\n",
    "        for every woman p that man m preferred in their preference ranking to woman w:\n",
    "            if woman p prefers man m over the man she is already in a couple with then\n",
    "                the couple (m,w) is an unstable couple\n",
    "            if woman p does not perfer man m over the man she is already in a couple with then\n",
    "                the couple (m,w) is a stable couple\n",
    "if every couple in the matching is stable then\n",
    "    the matching is stable\n",
    "otherwise the matching is not stable\n",
    "END"
   ]
  },
  {
   "cell_type": "markdown",
   "id": "53aa8857-6bd3-40d7-ae34-0e108c9200e8",
   "metadata": {},
   "source": [
    "Below is the pseudocode for the STABLE_MATCHINGS function given in Task 3:"
   ]
  },
  {
   "cell_type": "raw",
   "id": "0d440de3-a6fe-4ba6-8eb1-023a4f3d23b1",
   "metadata": {},
   "source": [
    "BEGIN\n",
    "for every possible combination of matchings between the men and women\n",
    "    for every coupled pair in each matching: \n",
    "        m = the man in each pairing \n",
    "        w = the woman in each pairing \n",
    "        i = the ranking man m gave woman w in his preference list\n",
    "        if m ranked w as their first preference then\n",
    "            the couple (m,w) is a stable couple\n",
    "        if m did not rank w as their first preference then\n",
    "            for every woman p that man m preferred in their preference ranking to woman w:\n",
    "                if woman p prefers man m over the man she is already in a couple with then\n",
    "                    the couple (m,w) is an unstable couple\n",
    "                if woman p does not perfer man m over the man she is already in a couple with then\n",
    "                    the couple (m,w) is a stable couple\n",
    "    if every couple in the matching is stable then\n",
    "        the matching is stable\n",
    "    otherwise the matching is not stable\n",
    "return every matching that was found to be stable\n",
    "END"
   ]
  },
  {
   "cell_type": "markdown",
   "id": "2ee1c661-75da-4574-879d-1f4dc0a00278",
   "metadata": {},
   "source": [
    "### Task 6"
   ]
  },
  {
   "cell_type": "markdown",
   "id": "6309714b-1604-4450-bb9c-8549fc4b28eb",
   "metadata": {},
   "source": [
    "We will introduce a function called Random_Matchings, which produces a random set of matchings for two disjoint sets."
   ]
  },
  {
   "cell_type": "code",
   "execution_count": 42,
   "id": "3b64e1a1-2362-4a00-96d0-5ec810e66b5e",
   "metadata": {},
   "outputs": [],
   "source": [
    "def Random_Matchings(X,Y):\n",
    "    pref = list()\n",
    "    n=len(X)\n",
    "    while n>0:\n",
    "        x = random.sample(Y,1)[0]\n",
    "        y = random.sample(X,1)[0]\n",
    "        X.remove(str(y))\n",
    "        Y.remove(str(x))\n",
    "        t = tuple(y[0])\n",
    "        t=t+tuple(x[0])\n",
    "        pref.append(t)\n",
    "        n=n-1\n",
    "    return(pref)"
   ]
  },
  {
   "cell_type": "markdown",
   "id": "2375a258-d38b-4dc9-a909-d1058bacb8af",
   "metadata": {},
   "source": [
    "For example, we can use the following sets, X and Y, to produce a set of random matchings:"
   ]
  },
  {
   "cell_type": "code",
   "execution_count": 43,
   "id": "06c32bff-8bd5-4799-b1db-a4c13edfc1ea",
   "metadata": {},
   "outputs": [
    {
     "data": {
      "text/plain": [
       "[('C', 'b'), ('B', 'a'), ('A', 'd'), ('D', 'c')]"
      ]
     },
     "execution_count": 43,
     "metadata": {},
     "output_type": "execute_result"
    }
   ],
   "source": [
    "X = ['A','B','C','D']\n",
    "Y = ['a','b','c','d']\n",
    "Random_Matchings(X,Y)"
   ]
  },
  {
   "cell_type": "markdown",
   "id": "ccd6b153-7498-4f6f-a518-755506b339b3",
   "metadata": {},
   "source": [
    "Using this funtion and the Random_Preference_Tables from Task 4, we can implement them to find the average time it takes for the IS_STABLE and STABLE_MATCHINGS to run."
   ]
  },
  {
   "cell_type": "code",
   "execution_count": 44,
   "id": "cc0b3f24-2cba-434b-806a-c19b113f5adb",
   "metadata": {},
   "outputs": [],
   "source": [
    "import time\n",
    "\n",
    "def IS_STABLE_TIMING(X,Y):\n",
    "    times=list()\n",
    "    for j in range(len(X)-1):\n",
    "        X_1=X[0:j+2]\n",
    "        Y_1=Y[0:j+2]\n",
    "        Z=Random_Preference_Tables(X_1,Y_1)\n",
    "        table_1=Z[0]\n",
    "        table_2=Z[1]\n",
    "        pairings=Random_Matchings(X_1,Y_1)\n",
    "        start = time.perf_counter()\n",
    "        for i in range(100000) :\n",
    "            IS_STABLE(table_1,table_2,pairings)\n",
    "        end = time.perf_counter()\n",
    "        t=(end-start)/100000\n",
    "        times.append(t)\n",
    "    return(times)"
   ]
  },
  {
   "cell_type": "markdown",
   "id": "be134a7a-12e6-446a-a132-502a26671f2d",
   "metadata": {},
   "source": [
    "The above function find the average time it takes for the function IS_STABLE to run over different sizes of preference tables when it takes random preference tables and random matchings. It runs over IS_STABLE 100,000 times with the random preference tables and matchings, and then finds the average time it takes for one run."
   ]
  },
  {
   "cell_type": "markdown",
   "id": "d29be0d9-6189-492d-a259-ca0a4c4a6ed1",
   "metadata": {},
   "source": [
    "To plot a graph, we must install plotnine."
   ]
  },
  {
   "cell_type": "code",
   "execution_count": 31,
   "id": "3f2fe805-8c85-4fd4-88bc-f179243870a7",
   "metadata": {},
   "outputs": [
    {
     "name": "stdout",
     "output_type": "stream",
     "text": [
      "Requirement already satisfied: plotnine in ./env/lib/python3.9/site-packages (0.12.4)\n",
      "Requirement already satisfied: matplotlib>=3.6.0 in ./env/lib/python3.9/site-packages (from plotnine) (3.8.2)\n",
      "Requirement already satisfied: mizani<0.10.0,>0.9.0 in ./env/lib/python3.9/site-packages (from plotnine) (0.9.3)\n",
      "Requirement already satisfied: numpy>=1.23.0 in ./env/lib/python3.9/site-packages (from plotnine) (1.26.3)\n",
      "Requirement already satisfied: pandas>=1.5.0 in ./env/lib/python3.9/site-packages (from plotnine) (2.1.4)\n",
      "Requirement already satisfied: patsy>=0.5.1 in ./env/lib/python3.9/site-packages (from plotnine) (0.5.6)\n",
      "Requirement already satisfied: scipy>=1.5.0 in ./env/lib/python3.9/site-packages (from plotnine) (1.12.0)\n",
      "Requirement already satisfied: statsmodels>=0.14.0 in ./env/lib/python3.9/site-packages (from plotnine) (0.14.1)\n",
      "Requirement already satisfied: contourpy>=1.0.1 in ./env/lib/python3.9/site-packages (from matplotlib>=3.6.0->plotnine) (1.2.0)\n",
      "Requirement already satisfied: cycler>=0.10 in ./env/lib/python3.9/site-packages (from matplotlib>=3.6.0->plotnine) (0.12.1)\n",
      "Requirement already satisfied: fonttools>=4.22.0 in ./env/lib/python3.9/site-packages (from matplotlib>=3.6.0->plotnine) (4.47.2)\n",
      "Requirement already satisfied: kiwisolver>=1.3.1 in ./env/lib/python3.9/site-packages (from matplotlib>=3.6.0->plotnine) (1.4.5)\n",
      "Requirement already satisfied: packaging>=20.0 in ./env/lib/python3.9/site-packages (from matplotlib>=3.6.0->plotnine) (23.2)\n",
      "Requirement already satisfied: pillow>=8 in ./env/lib/python3.9/site-packages (from matplotlib>=3.6.0->plotnine) (10.2.0)\n",
      "Requirement already satisfied: pyparsing>=2.3.1 in ./env/lib/python3.9/site-packages (from matplotlib>=3.6.0->plotnine) (3.1.1)\n",
      "Requirement already satisfied: python-dateutil>=2.7 in ./env/lib/python3.9/site-packages (from matplotlib>=3.6.0->plotnine) (2.8.2)\n",
      "Requirement already satisfied: importlib-resources>=3.2.0 in ./env/lib/python3.9/site-packages (from matplotlib>=3.6.0->plotnine) (6.1.1)\n",
      "Requirement already satisfied: pytz>=2020.1 in ./env/lib/python3.9/site-packages (from pandas>=1.5.0->plotnine) (2023.3.post1)\n",
      "Requirement already satisfied: tzdata>=2022.1 in ./env/lib/python3.9/site-packages (from pandas>=1.5.0->plotnine) (2023.4)\n",
      "Requirement already satisfied: six in ./env/lib/python3.9/site-packages (from patsy>=0.5.1->plotnine) (1.16.0)\n",
      "Requirement already satisfied: zipp>=3.1.0 in ./env/lib/python3.9/site-packages (from importlib-resources>=3.2.0->matplotlib>=3.6.0->plotnine) (3.17.0)\n"
     ]
    }
   ],
   "source": [
    "! python -m pip install plotnine\n",
    "import plotnine\n",
    "import pandas as pd\n",
    "import numpy as np"
   ]
  },
  {
   "cell_type": "code",
   "execution_count": 32,
   "id": "03978343-e547-4f3b-8963-d8dbd91070dc",
   "metadata": {},
   "outputs": [],
   "source": [
    "from plotnine import ggplot, geom_point, aes, stat_smooth, facet_wrap, geom_line, labs"
   ]
  },
  {
   "cell_type": "markdown",
   "id": "b119593a-ccfb-4330-ba46-8c385e895083",
   "metadata": {},
   "source": [
    "The IS_STABLE_TIMING will now be implemented to provide a graph to show the length of time it takes for IS_STABLE to run while the size of preference tables changes."
   ]
  },
  {
   "cell_type": "code",
   "execution_count": 179,
   "id": "05922cb1-c8ad-4a28-91f7-74eccef255fe",
   "metadata": {},
   "outputs": [],
   "source": [
    "X=['A','B','C','D','E','F','G','H','I','J']\n",
    "Y=['a','b','c','d','e','f','g','h','i','j']\n",
    "\n",
    "T_1=IS_STABLE_TIMING(X,Y)"
   ]
  },
  {
   "cell_type": "code",
   "execution_count": 180,
   "id": "f3014de9-dfb8-482b-888e-dbc2a2387d24",
   "metadata": {},
   "outputs": [
    {
     "data": {
      "image/png": "[encoded data removed]",
      "text/plain": [
       "<Figure size 640x480 with 1 Axes>"
      ]
     },
     "metadata": {
      "image/png": {
       "height": 480,
       "width": 640
      }
     },
     "output_type": "display_data"
    },
    {
     "name": "stdout",
     "output_type": "stream",
     "text": [
      "\n"
     ]
    }
   ],
   "source": [
    "X_2 = np.arange(2,len(X)+1,1)\n",
    "Y_2 = T_1\n",
    "len(X)\n",
    "df = pd.DataFrame({\"X\" : X_2,\"Y\" : Y_2})\n",
    "df\n",
    "\n",
    "p = ggplot(df,aes(x=X_2,y=Y_2))\n",
    "p1 = p + geom_line()\n",
    "p1 = p1 + labs(\n",
    "    x = \"Number of preferences per person\",\n",
    "    y = \"Time of IS_STABLE\"\n",
    "  )\n",
    "print(p1)\n"
   ]
  },
  {
   "cell_type": "markdown",
   "id": "93bb0109-4aee-46af-942c-955d7f4bacd5",
   "metadata": {},
   "source": [
    "The above graph shows the time it takes for the IS_STABLE function to run when it takes different sizes of preference tables. The graph agrees with the assumption that the complexity of the IS_STABLE algorithm is $O(n^2)$, since the graph is approximately a quadratic shape and there exists an $M$ such that $f(n)\\leq Mn^2$ (such as $M=0.001$), where $f(n)$ is the average time it takes IS_STABLE to run with $n$ number of preferences per person, which is equal to the number of men or women. Overall, the graph implies that the time complexity of IS_STABLE stated in Task 2 is accurate."
   ]
  },
  {
   "cell_type": "markdown",
   "id": "d3f09141-f1a1-41da-a864-403b8d108697",
   "metadata": {},
   "source": [
    "The function below is used to find the amount of time it takes the STABLE_MATCHING function to run. It is identical to the IS_STABLE_TIMING function, except it only runs and finds the mean over 10 random preference tables and random matchings rather than 100,000 and it finds the time it takes for STABLE_MATCHING to run as opposed to IS_STABLE. To get more accurate results, it would be better to increase the number of runs it performs, but this function was incredibly computationally expensive, so only 10 were ran."
   ]
  },
  {
   "cell_type": "code",
   "execution_count": 23,
   "id": "db059792-535c-4f80-bfec-af54ecd57d42",
   "metadata": {},
   "outputs": [],
   "source": [
    "def STABLE_MATCHINGS_TIMING(X,Y):\n",
    "    times=list()\n",
    "    for j in range(len(X)-1):\n",
    "        X_1=X[0:j+2]\n",
    "        Y_1=Y[0:j+2]\n",
    "        Z=Random_Preference_Tables(X_1,Y_1)\n",
    "        table_1=Z[0]\n",
    "        table_2=Z[1]\n",
    "        pairings=Random_Matchings(X_1,Y_1)\n",
    "        start = time.perf_counter()\n",
    "        for i in range(10) :\n",
    "            STABLE_MATCHINGS(table_1,table_2)\n",
    "        end = time.perf_counter()\n",
    "        t=(end-start)/10\n",
    "        times.append(t)\n",
    "    return(times)"
   ]
  },
  {
   "cell_type": "markdown",
   "id": "a9b756ac-6b79-49cc-9c37-ff7b324b0ec8",
   "metadata": {},
   "source": [
    "The STABLE_MATCHINGS_TIMING function will now run to find the relationship between the size of the preference tables and the time it takes for STABLE_MATCHINGS to run."
   ]
  },
  {
   "cell_type": "code",
   "execution_count": 29,
   "id": "fabc05ef-c1d0-46c9-b6d0-17b875c32b17",
   "metadata": {},
   "outputs": [],
   "source": [
    "X=['A','B','C','D','E','F','G','H','I','J']\n",
    "Y=['a','b','c','d','e','f','g','h','i','j']\n",
    "\n",
    "T_2=STABLE_MATCHINGS_TIMING(X,Y)"
   ]
  },
  {
   "cell_type": "code",
   "execution_count": 33,
   "id": "11eba675-905c-4ffa-ab3b-5bfb777617ff",
   "metadata": {},
   "outputs": [
    {
     "data": {
      "image/png": "[encoded data removed]",
      "text/plain": [
       "<Figure size 640x480 with 1 Axes>"
      ]
     },
     "metadata": {
      "image/png": {
       "height": 480,
       "width": 640
      }
     },
     "output_type": "display_data"
    },
    {
     "name": "stdout",
     "output_type": "stream",
     "text": [
      "\n"
     ]
    }
   ],
   "source": [
    "X_3 = np.arange(2,len(X)+1,1)\n",
    "Y_3 = T_2\n",
    "len(X)\n",
    "df = pd.DataFrame({\"X\" : X_3,\"Y\" : Y_3})\n",
    "df\n",
    "\n",
    "p = ggplot(df,aes(x=X_3,y=Y_3))\n",
    "p2 = p + geom_line()\n",
    "p2 = p2 + labs(\n",
    "    x = \"Number of preferences per person\",\n",
    "    y = \"Time of STABLE_MATCHINGS\"\n",
    "  )\n",
    "print(p2)\n"
   ]
  },
  {
   "cell_type": "markdown",
   "id": "1fd38e53-4639-46ae-a92e-b9cb63818708",
   "metadata": {},
   "source": [
    "The above graph shows the time it takes for the STABLE_MATCHINGS function to run while taking different sizes of preference tables. The graph agrees with the assumption that the complexity of the STABLE_MATCHINGS algorithm is $O(n!n^2)$, since the graph is approximately the same shape that one would expect from the graph $y=n!n^2$. Additionally, there exists an $M$ such that $f(n)\\leq Mn!n^2$ (such as $M=1$) where $f(n)$ is the average time it takes IS_STABLE to run with $n$ number of preferences per person, which is equal to the number of men or women. Overall, the graph implies that the time complexity of STABLE_MATCHINGS stated in Task 3 is accurate."
   ]
  },
  {
   "cell_type": "markdown",
   "id": "723e0dbb-dea2-431a-9078-b14bc0e75319",
   "metadata": {},
   "source": [
    "### Task 7"
   ]
  },
  {
   "cell_type": "markdown",
   "id": "c789baeb-ac68-4220-b789-7772bb2dc5dd",
   "metadata": {},
   "source": [
    "#### Part a"
   ]
  },
  {
   "cell_type": "markdown",
   "id": "b822fcdf-80a3-42bd-b7d9-5f3e14a9546b",
   "metadata": {},
   "source": [
    "The \"very undesirable\" imaginary man is added to all of the women's preference lists as their least favourable option, since he is every woman's most unwanted partner. He is then initially engaged to every woman and the Fundamental Algorithm improves their engagements, since the women will always have a more stable marriage than with him. This man does not need to be added to the list of the other men or given any preferences, as he is imaginary and will not be present in any table matchings.\n",
    "\n",
    "If we begin with the women's preference table, B, then the function New_preferences adds the very undesirable man, called 'Z', to all of the women's preferences:"
   ]
  },
  {
   "cell_type": "code",
   "execution_count": 45,
   "id": "8837bd62-5d95-4c95-b999-fd5244143bb0",
   "metadata": {},
   "outputs": [],
   "source": [
    "def New_preferences(B):\n",
    "    \n",
    "    for i in list(B.keys()):\n",
    "        B[i].append('Z')\n",
    "    return(B)\n",
    "    "
   ]
  },
  {
   "cell_type": "markdown",
   "id": "40b10ce3-ec59-4caa-be46-af59910a1221",
   "metadata": {},
   "source": [
    "Below is an example of a preference table that has had the very undesirable imaginary man added to the women's preference list:"
   ]
  },
  {
   "cell_type": "code",
   "execution_count": 46,
   "id": "3fdb8d41-e168-4a4b-ab27-dc421840c9ff",
   "metadata": {},
   "outputs": [
    {
     "data": {
      "text/plain": [
       "{'a': ['B', 'D', 'C', 'A', 'Z'],\n",
       " 'b': ['C', 'A', 'B', 'D', 'Z'],\n",
       " 'c': ['A', 'B', 'C', 'D', 'Z'],\n",
       " 'd': ['C', 'B', 'D', 'A', 'Z']}"
      ]
     },
     "execution_count": 46,
     "metadata": {},
     "output_type": "execute_result"
    }
   ],
   "source": [
    "B = {\n",
    "    'a': ['B','D','C','A'],\n",
    "    'b': ['C','A','B','D'],\n",
    "    'c': ['A','B','C','D'],\n",
    "    'd': ['C','B','D','A']\n",
    "\n",
    "}\n",
    "New_preferences(B)"
   ]
  },
  {
   "cell_type": "markdown",
   "id": "df2dd9d6-4e11-4b9e-82ae-853630367bc3",
   "metadata": {},
   "source": [
    "#### Part b"
   ]
  },
  {
   "cell_type": "markdown",
   "id": "e29ea61d-ac76-4bbf-ad36-06a9c7a56dfe",
   "metadata": {},
   "source": [
    "The function Fundamental_Algorithm function below takes two compatible preference tables, A and B, and uses the Fundamental Algorithm to produce a stable matching by using the very undesirable imaginary man."
   ]
  },
  {
   "cell_type": "code",
   "execution_count": 47,
   "id": "ae652bb0-ccc0-4813-b08a-e41f5ef67d50",
   "metadata": {},
   "outputs": [],
   "source": [
    "def Fundamental_Algorithm(A,B):\n",
    "    \n",
    "    New_preferences(B)\n",
    "    n=len(B)\n",
    "\n",
    "    matchings=dict()\n",
    "    k=0\n",
    "    for j in list(B.keys()):\n",
    "        matchings[j]=B[j][n]\n",
    "        \n",
    "    while k<n:\n",
    "        X=list(A.keys())[k]\n",
    "        while X!='Z':\n",
    "            x=A[X][0]\n",
    "            if B[x].index(X)<B[x].index(matchings[x]):\n",
    "                Y=matchings[x]\n",
    "                matchings[x]=X\n",
    "                X=Y\n",
    "            if X!='Z':\n",
    "                A[X].remove(x)\n",
    "        k=k+1\n",
    "    \n",
    "    return(matchings)"
   ]
  },
  {
   "cell_type": "markdown",
   "id": "7c65ede8-2d2b-43ae-b659-10d399bc7eec",
   "metadata": {},
   "source": [
    "Here is an example of the Fundamental_Algorithm function producing a stable matching from two preference tables."
   ]
  },
  {
   "cell_type": "code",
   "execution_count": 48,
   "id": "4435fe68-fa1b-40a2-9d2f-849fa4d1963d",
   "metadata": {},
   "outputs": [
    {
     "data": {
      "text/plain": [
       "{'a': 'A', 'b': 'D', 'c': 'C', 'd': 'B'}"
      ]
     },
     "execution_count": 48,
     "metadata": {},
     "output_type": "execute_result"
    }
   ],
   "source": [
    "A = {\n",
    " 'A':   ['a','b','d','c'],\n",
    " 'B':   ['d','b','c','a'],\n",
    " 'C':   ['c','a','b','d'],\n",
    " 'D':   ['d','b','a','c']\n",
    " }\n",
    "B = {\n",
    "    'a': ['B','D','C','A'],\n",
    "    'b': ['C','A','B','D'],\n",
    "    'c': ['A','B','C','D'],\n",
    "    'd': ['C','B','D','A']\n",
    "}\n",
    "\n",
    "Fundamental_Algorithm(A,B)"
   ]
  },
  {
   "cell_type": "markdown",
   "id": "e2ad8f95-eef1-4d44-a388-978d7bc4503f",
   "metadata": {},
   "source": [
    "#### Part c"
   ]
  },
  {
   "cell_type": "markdown",
   "id": "548a4406-327d-41cf-b847-a1eb40f94cf0",
   "metadata": {},
   "source": [
    "The preference tables for men and women are both dictionaries, because it is an efficient and easy way to relate each person to their preferences. The matchings are also dictionaries in this function, because I found it more efficient to update someone's partner through a dictionairy than with a list of tuples. \n",
    "\n",
    "The 'for' loop creates a dictionary of initial pairings of couples, so that part of the process has complexity $O(n)$. Then, the first 'while' loop loops over $n$ times in the worst case scenario. and therefore the complexity of Fundamental_Algorithm is $O(n+n)$=$O(n)$. By making a function called Fundamental_Algorithm_Timing that takes a list of men a list of women as its inputs, we can observe whether this is accurate."
   ]
  },
  {
   "cell_type": "code",
   "execution_count": 49,
   "id": "5e31aefe-ce3d-4d9b-8d45-469a1b45aef4",
   "metadata": {},
   "outputs": [],
   "source": [
    "def Fundamental_Algorithm_Timing(X,Y):\n",
    "    times=list()\n",
    "    for j in range(len(X)-1):\n",
    "        X_1=X[0:j+2]\n",
    "        Y_1=Y[0:j+2]\n",
    "        Z=Random_Preference_Tables(X_1,Y_1)\n",
    "        table_1=Z[0]\n",
    "        table_2=Z[1]\n",
    "        start = time.perf_counter()\n",
    "        for i in range(1000000) :\n",
    "            Fundamental_Algorithm(table_1,table_2)\n",
    "        end = time.perf_counter()\n",
    "        t=(end-start)/1000000\n",
    "        times.append(t)\n",
    "    return(times)"
   ]
  },
  {
   "cell_type": "code",
   "execution_count": 114,
   "id": "39183aa0-ab37-4c5c-bc2b-9603022fc94c",
   "metadata": {},
   "outputs": [],
   "source": [
    "X=['A','B','C','D','E','F','G','H','I','J']\n",
    "Y=['a','b','c','d','e','f','g','h','i','j']\n",
    "\n",
    "\n",
    "T_3=Fundamental_Algorithm_Timing(X,Y)"
   ]
  },
  {
   "cell_type": "code",
   "execution_count": 115,
   "id": "1b8f4d51-e8b5-43b3-8885-ead8e8230d88",
   "metadata": {},
   "outputs": [
    {
     "data": {
      "image/png": "[encoded data removed]",
      "text/plain": [
       "<Figure size 640x480 with 1 Axes>"
      ]
     },
     "metadata": {
      "image/png": {
       "height": 480,
       "width": 640
      }
     },
     "output_type": "display_data"
    },
    {
     "name": "stdout",
     "output_type": "stream",
     "text": [
      "\n"
     ]
    }
   ],
   "source": [
    "X_3 = np.arange(2,len(X)+1,1)\n",
    "Y_3 = T_3\n",
    "len(X)\n",
    "df = pd.DataFrame({\"X\" : X_3,\"Y\" : Y_3})\n",
    "df\n",
    "\n",
    "p = ggplot(df,aes(x=X_3,y=Y_3))\n",
    "p2 = p + geom_line()\n",
    "p2 = p2 + labs(\n",
    "    x = \"Number of preferences per person\",\n",
    "    y = \"Time of Fundamental_Algorithm\"\n",
    "  )\n",
    "print(p2)"
   ]
  },
  {
   "cell_type": "markdown",
   "id": "5e3b842f-75d4-40a6-bc0a-72b495efddbf",
   "metadata": {},
   "source": [
    "The graph shows that there is a linear relationship between $n$ and the time it takes for Fundamental_Algorithm to produce results. There exists an $M$ such that $f(n)\\leq n$ (such as $M=0.001$) where \n",
    "$f(n)$ is the average time it takes Fundamental_Algorithm to run with $n$ number of preferences per person, which is equal to the number of men or women. Overall, the graph shows that the time complexity of Fundamental_Algorithm being $O(n)$ is accurate."
   ]
  },
  {
   "cell_type": "markdown",
   "id": "85470e31-8d3f-4312-9cd7-474520170227",
   "metadata": {},
   "source": [
    "### Task 8"
   ]
  },
  {
   "cell_type": "markdown",
   "id": "a937acdd-be6e-4f52-a0e2-209fd9ab05c7",
   "metadata": {},
   "source": [
    "Rather than the inputs being lists, the preference tables could be a data frame, which uses 'pandas'. The following function, Random_Matchings_pddataframe, uses pandas data frame preference tables as inputs and have an output of a pandas data frame matching."
   ]
  },
  {
   "cell_type": "code",
   "execution_count": 50,
   "id": "566bf015-d158-4abc-96a3-b3629070a355",
   "metadata": {},
   "outputs": [],
   "source": [
    "def Random_Matchings_pddataframe(X,Y):\n",
    "    n = len(X.values.tolist())\n",
    "    M = dict()\n",
    "    F = dict()\n",
    "    for l in range(n):\n",
    "        name_1=(X.columns.tolist())[l]\n",
    "        M[name_1]=X[name_1].tolist()\n",
    "        name_2=(Y.columns.tolist())[l]\n",
    "        F[name_2]=Y[name_2].tolist()\n",
    "    \n",
    "    \n",
    "    X_1=list(M.keys())\n",
    "    Y_1=list(F.keys())\n",
    "    men = list()\n",
    "    women=list()\n",
    "    n=len(X_1)\n",
    "    while n>0:\n",
    "        x = random.sample(Y_1,1)[0]\n",
    "        y = random.sample(X_1,1)[0]\n",
    "        X_1.remove(str(y))\n",
    "        Y_1.remove(str(x))\n",
    "        s = y[0]\n",
    "        t = x[0]\n",
    "        men.append(s)\n",
    "        women.append(t)\n",
    "        Data=dict()\n",
    "        Data[\"Men\"]=men\n",
    "        Data[\"Women\"]=women\n",
    "        n=n-1\n",
    "    return(pd.DataFrame(Data))"
   ]
  },
  {
   "cell_type": "code",
   "execution_count": 51,
   "id": "4a613241-430f-40cd-bc0b-b995cc961bba",
   "metadata": {},
   "outputs": [
    {
     "data": {
      "text/html": [
       "<div>\n",
       "<style scoped>\n",
       "    .dataframe tbody tr th:only-of-type {\n",
       "        vertical-align: middle;\n",
       "    }\n",
       "\n",
       "    .dataframe tbody tr th {\n",
       "        vertical-align: top;\n",
       "    }\n",
       "\n",
       "    .dataframe thead th {\n",
       "        text-align: right;\n",
       "    }\n",
       "</style>\n",
       "<table border=\"1\" class=\"dataframe\">\n",
       "  <thead>\n",
       "    <tr style=\"text-align: right;\">\n",
       "      <th></th>\n",
       "      <th>Men</th>\n",
       "      <th>Women</th>\n",
       "    </tr>\n",
       "  </thead>\n",
       "  <tbody>\n",
       "    <tr>\n",
       "      <th>0</th>\n",
       "      <td>A</td>\n",
       "      <td>I</td>\n",
       "    </tr>\n",
       "    <tr>\n",
       "      <th>1</th>\n",
       "      <td>D</td>\n",
       "      <td>G</td>\n",
       "    </tr>\n",
       "    <tr>\n",
       "      <th>2</th>\n",
       "      <td>C</td>\n",
       "      <td>F</td>\n",
       "    </tr>\n",
       "    <tr>\n",
       "      <th>3</th>\n",
       "      <td>B</td>\n",
       "      <td>H</td>\n",
       "    </tr>\n",
       "  </tbody>\n",
       "</table>\n",
       "</div>"
      ],
      "text/plain": [
       "  Men Women\n",
       "0   A     I\n",
       "1   D     G\n",
       "2   C     F\n",
       "3   B     H"
      ]
     },
     "execution_count": 51,
     "metadata": {},
     "output_type": "execute_result"
    }
   ],
   "source": [
    "A = pd.DataFrame({\n",
    " 'A':   ['F','G','I','H'],\n",
    " 'B':   ['I','G','H','F'],\n",
    " 'C':   ['H','F','G','I'],\n",
    " 'D':   ['I','G','F','H']\n",
    " })\n",
    "B = pd.DataFrame({\n",
    "    'F': ['B','D','C','A'],\n",
    "    'G': ['C','A','B','D'],\n",
    "    'H': ['A','B','C','D'],\n",
    "    'I': ['C','B','D','A']\n",
    "})\n",
    "Random_Matchings_pddataframe(A,B)"
   ]
  },
  {
   "cell_type": "markdown",
   "id": "89291b4b-a481-4fe1-802c-388c4b9d43ab",
   "metadata": {},
   "source": [
    "### Task 9"
   ]
  },
  {
   "cell_type": "markdown",
   "id": "cece2b9f-5c83-4aa6-9a95-033280286ce2",
   "metadata": {},
   "source": [
    "#### Testing stability"
   ]
  },
  {
   "cell_type": "markdown",
   "id": "61ade640-2c97-4a01-9484-aa2d24968d47",
   "metadata": {},
   "source": [
    "One thing that we can do to test the Fundamental_Algorithm function is to check that the output is indeed a stable matching with the function IS_Fundamental_Algorithm_STABLE, in which we simply need to input the names of the men and women in lists A and B respectively. This function uses the Random_Preference_Tables function from Task 4 to produce random preference tables to be used, and it runs over 1000 randomly produced tables to test the stability of the the matching produced from the Fundamental_Algorithm from Task 7. The IS_STABLE function from Task 2 is implemented to help with confirming the stability. The IS_STABLE allows the input 'pairings' as a list, but the Fundamental_Algorithm function outpus the pairings as a dictionary, so they must be converted to a list first, which is done in the function Convert, which is embedded in IS_Fundamental_Algorithm_STABLE, making it a closure."
   ]
  },
  {
   "cell_type": "markdown",
   "id": "36d73ef3-2c28-48eb-a93d-48d0636d436d",
   "metadata": {},
   "source": [
    "The Fundamental_Algorithm should always produce a stable matching, so if any of the 1000 results show that the matching is unstable, the Fundamental_Algorithm is incorrect, whereas if all of the results show the matching is stable, we are quite sure that the function works correctly. To increase our confidence in how well the function works, the number of runs should be increased, but this function will never be able to prove for 100% sure that the algorithm always produces a stable matchings."
   ]
  },
  {
   "cell_type": "code",
   "execution_count": 52,
   "id": "2af0de27-1b0e-45fb-8d9c-28ac07eb6a9d",
   "metadata": {},
   "outputs": [],
   "source": [
    "def IS_Fundamental_Algorithm_STABLE(A,B):\n",
    "    \n",
    "    V=list()\n",
    "    for j in range(1000):\n",
    "        K=Random_Preference_Tables(A,B)\n",
    "        X=K[0]\n",
    "        Y=K[1]\n",
    "        x=Fundamental_Algorithm(X,Y)\n",
    "    \n",
    "        def Convert(x):\n",
    "            n=len(x)\n",
    "            pairings=list()\n",
    "            for i in range(n):\n",
    "                a=tuple(x)[i]\n",
    "                b=x[a]\n",
    "                t=tuple(b)\n",
    "                t=t+tuple(a)\n",
    "                pairings.append(t)\n",
    "            return(pairings)\n",
    "            \n",
    "        pairs=Convert(x)\n",
    "        s=(IS_STABLE(X,Y,pairs))\n",
    "        V.append(s)\n",
    "    if 'Not stable' in V:\n",
    "        return('Fundamental_Algorithm does not always produce stable matchings')\n",
    "    else:\n",
    "        return('Fundemantal_Algorithm most likely always produces stable matchings')\n",
    "\n"
   ]
  },
  {
   "cell_type": "markdown",
   "id": "0d4bfcdb-95cb-4856-88f1-5fc0ef118bb5",
   "metadata": {},
   "source": [
    "The example below shows the result from using the IS_Fundamental_Algorithm_STABLE. The function returns our belief about the accuracy of the Fundamental_Algorithm function."
   ]
  },
  {
   "cell_type": "code",
   "execution_count": 53,
   "id": "57517567-340b-4e5d-8e8c-8075b6cc6ad1",
   "metadata": {},
   "outputs": [
    {
     "data": {
      "text/plain": [
       "'Fundemantal_Algorithm most likely always produces stable matchings'"
      ]
     },
     "execution_count": 53,
     "metadata": {},
     "output_type": "execute_result"
    }
   ],
   "source": [
    "X=['A','B','C','D','E','F','G','H','I','J']\n",
    "Y=['a','b','c','d','e','f','g','h','i','j']\n",
    "\n",
    "IS_Fundamental_Algorithm_STABLE(X,Y)"
   ]
  },
  {
   "cell_type": "markdown",
   "id": "46ce0eb5-03fc-496f-acc5-14fa26ee5142",
   "metadata": {},
   "source": [
    "This test should always release the same output, saying 'Fundamental_Algorithm most likely always produces stable matchings', so this test helps with repeatability."
   ]
  },
  {
   "cell_type": "markdown",
   "id": "d81f619b-7ed7-454c-9186-c9afd23f5f92",
   "metadata": {},
   "source": [
    "#### Testing number inputs"
   ]
  },
  {
   "cell_type": "markdown",
   "id": "6e91fa83-8a7f-49c7-8291-7d13f6012ff0",
   "metadata": {},
   "source": [
    "Another test we can do is to see how whether the Fundamental_Algorithm works when we use numbers to represent the men and women's names. We will call A a list of numbers representing the men and B a list of numbers representing the women. By again producing random preference tables from the function in Task 4, we can test Fundamental_Algorithm to see if it is able to produce a matching by creating a function called Test_Fundamental_Algorithm that takes lists of names (or in this case numbers) and outputs a stable matching."
   ]
  },
  {
   "cell_type": "code",
   "execution_count": 54,
   "id": "2a25627f-f740-4a22-9717-6fafd6cae285",
   "metadata": {},
   "outputs": [],
   "source": [
    "def Test_Fundamental_Algorithm(A,B):\n",
    "    Z=Random_Preference_Tables(A,B)\n",
    "    X=Z[0]\n",
    "    Y=Z[1]\n",
    "    \n",
    "    return(Fundamental_Algorithm(X,Y))"
   ]
  },
  {
   "cell_type": "code",
   "execution_count": 55,
   "id": "cdec2394-e37e-4b4b-a76d-4cff43fa3fb4",
   "metadata": {},
   "outputs": [
    {
     "data": {
      "text/plain": [
       "{6: 3, 7: 2, 8: 4, 9: 5, 10: 1}"
      ]
     },
     "execution_count": 55,
     "metadata": {},
     "output_type": "execute_result"
    }
   ],
   "source": [
    "import random\n",
    "random.seed(10)\n",
    "A=[1,2,3,4,5]\n",
    "B=[6,7,8,9,10]\n",
    "Test_Fundamental_Algorithm(A,B)"
   ]
  },
  {
   "cell_type": "markdown",
   "id": "0689f933-49b9-4bd1-8cf1-caec08d9a55f",
   "metadata": {},
   "source": [
    "As can be seen above, the Fundamental_Algorithm function is able to work with numbers representing people rather than words, since it was absle to successfully find a stable matching."
   ]
  },
  {
   "cell_type": "markdown",
   "id": "35e7a2cb-e2c3-41d7-8b36-3caaca32d0f1",
   "metadata": {},
   "source": [
    "#### Testing inputs with the same names"
   ]
  },
  {
   "cell_type": "markdown",
   "id": "fdf6296d-6a13-4cca-a51d-9e99bc63b5a0",
   "metadata": {},
   "source": [
    "A final thing that we can do to test the Fundamental_Algorithm functiion is to test what happens if the preference tables have someone with the same name, to see if it still is able to produce a matching. To test if this can happen or not, we will do some examples and examine the outputs while using the Test_Fundamental_Algorithm."
   ]
  },
  {
   "cell_type": "markdown",
   "id": "9f0d1a5a-9c50-4834-9279-ed72f7bbde9c",
   "metadata": {},
   "source": [
    "#### Example 1"
   ]
  },
  {
   "cell_type": "code",
   "execution_count": 56,
   "id": "5c2830c9-6a14-4e07-8aaa-02e077a2a576",
   "metadata": {},
   "outputs": [
    {
     "ename": "IndexError",
     "evalue": "list index out of range",
     "output_type": "error",
     "traceback": [
      "\u001b[0;31m---------------------------------------------------------------------------\u001b[0m",
      "\u001b[0;31mIndexError\u001b[0m                                Traceback (most recent call last)",
      "Cell \u001b[0;32mIn[56], line 4\u001b[0m\n\u001b[1;32m      1\u001b[0m A\u001b[38;5;241m=\u001b[39m[\u001b[38;5;124m'\u001b[39m\u001b[38;5;124mPaul\u001b[39m\u001b[38;5;124m'\u001b[39m,\u001b[38;5;124m'\u001b[39m\u001b[38;5;124mJohn\u001b[39m\u001b[38;5;124m'\u001b[39m,\u001b[38;5;124m'\u001b[39m\u001b[38;5;124mGreg\u001b[39m\u001b[38;5;124m'\u001b[39m,\u001b[38;5;124m'\u001b[39m\u001b[38;5;124mPeter\u001b[39m\u001b[38;5;124m'\u001b[39m,\u001b[38;5;124m'\u001b[39m\u001b[38;5;124mSimon\u001b[39m\u001b[38;5;124m'\u001b[39m,\u001b[38;5;124m'\u001b[39m\u001b[38;5;124mPaul\u001b[39m\u001b[38;5;124m'\u001b[39m]\n\u001b[1;32m      2\u001b[0m B\u001b[38;5;241m=\u001b[39m[\u001b[38;5;124m'\u001b[39m\u001b[38;5;124mBeth\u001b[39m\u001b[38;5;124m'\u001b[39m, \u001b[38;5;124m'\u001b[39m\u001b[38;5;124mMonica\u001b[39m\u001b[38;5;124m'\u001b[39m,\u001b[38;5;124m'\u001b[39m\u001b[38;5;124mLisa\u001b[39m\u001b[38;5;124m'\u001b[39m,\u001b[38;5;124m'\u001b[39m\u001b[38;5;124mHeather\u001b[39m\u001b[38;5;124m'\u001b[39m,\u001b[38;5;124m'\u001b[39m\u001b[38;5;124mClaire\u001b[39m\u001b[38;5;124m'\u001b[39m,\u001b[38;5;124m'\u001b[39m\u001b[38;5;124mNia\u001b[39m\u001b[38;5;124m'\u001b[39m]\n\u001b[0;32m----> 4\u001b[0m \u001b[43mTest_Fundamental_Algorithm\u001b[49m\u001b[43m(\u001b[49m\u001b[43mA\u001b[49m\u001b[43m,\u001b[49m\u001b[43mB\u001b[49m\u001b[43m)\u001b[49m\n",
      "Cell \u001b[0;32mIn[54], line 6\u001b[0m, in \u001b[0;36mTest_Fundamental_Algorithm\u001b[0;34m(A, B)\u001b[0m\n\u001b[1;32m      3\u001b[0m X\u001b[38;5;241m=\u001b[39mZ[\u001b[38;5;241m0\u001b[39m]\n\u001b[1;32m      4\u001b[0m Y\u001b[38;5;241m=\u001b[39mZ[\u001b[38;5;241m1\u001b[39m]\n\u001b[0;32m----> 6\u001b[0m \u001b[38;5;28;01mreturn\u001b[39;00m(\u001b[43mFundamental_Algorithm\u001b[49m\u001b[43m(\u001b[49m\u001b[43mX\u001b[49m\u001b[43m,\u001b[49m\u001b[43mY\u001b[49m\u001b[43m)\u001b[49m)\n",
      "Cell \u001b[0;32mIn[47], line 12\u001b[0m, in \u001b[0;36mFundamental_Algorithm\u001b[0;34m(A, B)\u001b[0m\n\u001b[1;32m      9\u001b[0m     matchings[j]\u001b[38;5;241m=\u001b[39mB[j][n]\n\u001b[1;32m     11\u001b[0m \u001b[38;5;28;01mwhile\u001b[39;00m k\u001b[38;5;241m<\u001b[39mn:\n\u001b[0;32m---> 12\u001b[0m     X\u001b[38;5;241m=\u001b[39m\u001b[38;5;28;43mlist\u001b[39;49m\u001b[43m(\u001b[49m\u001b[43mA\u001b[49m\u001b[38;5;241;43m.\u001b[39;49m\u001b[43mkeys\u001b[49m\u001b[43m(\u001b[49m\u001b[43m)\u001b[49m\u001b[43m)\u001b[49m\u001b[43m[\u001b[49m\u001b[43mk\u001b[49m\u001b[43m]\u001b[49m\n\u001b[1;32m     13\u001b[0m     \u001b[38;5;28;01mwhile\u001b[39;00m X\u001b[38;5;241m!=\u001b[39m\u001b[38;5;124m'\u001b[39m\u001b[38;5;124mZ\u001b[39m\u001b[38;5;124m'\u001b[39m:\n\u001b[1;32m     14\u001b[0m         x\u001b[38;5;241m=\u001b[39mA[X][\u001b[38;5;241m0\u001b[39m]\n",
      "\u001b[0;31mIndexError\u001b[0m: list index out of range"
     ]
    }
   ],
   "source": [
    "A=['Paul','John','Greg','Peter','Simon','Paul']\n",
    "B=['Beth', 'Monica','Lisa','Heather','Claire','Nia']\n",
    "\n",
    "Test_Fundamental_Algorithm(A,B)"
   ]
  },
  {
   "cell_type": "markdown",
   "id": "64059d17-1437-435c-89c2-a825311d8d0f",
   "metadata": {},
   "source": [
    "In that example, there are two men called Paul, and in this case the Fundamental_Algorithm is unable to find a stable matching. This shows that if you have two men with the same name, then there needs to be a way to distinguish them, for example calling them 'Paul_1' and 'Paul_2' or calling them 'Paul_Robinson' and 'Paul_Jones'."
   ]
  },
  {
   "cell_type": "markdown",
   "id": "0856a7ed-a8b8-4c2a-ba30-70390d689f46",
   "metadata": {},
   "source": [
    "#### Example 2"
   ]
  },
  {
   "cell_type": "code",
   "execution_count": 57,
   "id": "b7a32eb4-2703-49b6-a84e-2fd85ea0c91b",
   "metadata": {},
   "outputs": [
    {
     "ename": "IndexError",
     "evalue": "list index out of range",
     "output_type": "error",
     "traceback": [
      "\u001b[0;31m---------------------------------------------------------------------------\u001b[0m",
      "\u001b[0;31mIndexError\u001b[0m                                Traceback (most recent call last)",
      "Cell \u001b[0;32mIn[57], line 4\u001b[0m\n\u001b[1;32m      1\u001b[0m A\u001b[38;5;241m=\u001b[39m[\u001b[38;5;124m'\u001b[39m\u001b[38;5;124mPaul\u001b[39m\u001b[38;5;124m'\u001b[39m,\u001b[38;5;124m'\u001b[39m\u001b[38;5;124mJohn\u001b[39m\u001b[38;5;124m'\u001b[39m,\u001b[38;5;124m'\u001b[39m\u001b[38;5;124mGreg\u001b[39m\u001b[38;5;124m'\u001b[39m,\u001b[38;5;124m'\u001b[39m\u001b[38;5;124mPeter\u001b[39m\u001b[38;5;124m'\u001b[39m,\u001b[38;5;124m'\u001b[39m\u001b[38;5;124mSimon\u001b[39m\u001b[38;5;124m'\u001b[39m,\u001b[38;5;124m'\u001b[39m\u001b[38;5;124mDavid\u001b[39m\u001b[38;5;124m'\u001b[39m]\n\u001b[1;32m      2\u001b[0m B\u001b[38;5;241m=\u001b[39m[\u001b[38;5;124m'\u001b[39m\u001b[38;5;124mBeth\u001b[39m\u001b[38;5;124m'\u001b[39m, \u001b[38;5;124m'\u001b[39m\u001b[38;5;124mMonica\u001b[39m\u001b[38;5;124m'\u001b[39m,\u001b[38;5;124m'\u001b[39m\u001b[38;5;124mLisa\u001b[39m\u001b[38;5;124m'\u001b[39m,\u001b[38;5;124m'\u001b[39m\u001b[38;5;124mHeather\u001b[39m\u001b[38;5;124m'\u001b[39m,\u001b[38;5;124m'\u001b[39m\u001b[38;5;124mClaire\u001b[39m\u001b[38;5;124m'\u001b[39m,\u001b[38;5;124m'\u001b[39m\u001b[38;5;124mMonica\u001b[39m\u001b[38;5;124m'\u001b[39m]\n\u001b[0;32m----> 4\u001b[0m \u001b[43mTest_Fundamental_Algorithm\u001b[49m\u001b[43m(\u001b[49m\u001b[43mA\u001b[49m\u001b[43m,\u001b[49m\u001b[43mB\u001b[49m\u001b[43m)\u001b[49m\n",
      "Cell \u001b[0;32mIn[54], line 6\u001b[0m, in \u001b[0;36mTest_Fundamental_Algorithm\u001b[0;34m(A, B)\u001b[0m\n\u001b[1;32m      3\u001b[0m X\u001b[38;5;241m=\u001b[39mZ[\u001b[38;5;241m0\u001b[39m]\n\u001b[1;32m      4\u001b[0m Y\u001b[38;5;241m=\u001b[39mZ[\u001b[38;5;241m1\u001b[39m]\n\u001b[0;32m----> 6\u001b[0m \u001b[38;5;28;01mreturn\u001b[39;00m(\u001b[43mFundamental_Algorithm\u001b[49m\u001b[43m(\u001b[49m\u001b[43mX\u001b[49m\u001b[43m,\u001b[49m\u001b[43mY\u001b[49m\u001b[43m)\u001b[49m)\n",
      "Cell \u001b[0;32mIn[47], line 14\u001b[0m, in \u001b[0;36mFundamental_Algorithm\u001b[0;34m(A, B)\u001b[0m\n\u001b[1;32m     12\u001b[0m X\u001b[38;5;241m=\u001b[39m\u001b[38;5;28mlist\u001b[39m(A\u001b[38;5;241m.\u001b[39mkeys())[k]\n\u001b[1;32m     13\u001b[0m \u001b[38;5;28;01mwhile\u001b[39;00m X\u001b[38;5;241m!=\u001b[39m\u001b[38;5;124m'\u001b[39m\u001b[38;5;124mZ\u001b[39m\u001b[38;5;124m'\u001b[39m:\n\u001b[0;32m---> 14\u001b[0m     x\u001b[38;5;241m=\u001b[39m\u001b[43mA\u001b[49m\u001b[43m[\u001b[49m\u001b[43mX\u001b[49m\u001b[43m]\u001b[49m\u001b[43m[\u001b[49m\u001b[38;5;241;43m0\u001b[39;49m\u001b[43m]\u001b[49m\n\u001b[1;32m     15\u001b[0m     \u001b[38;5;28;01mif\u001b[39;00m B[x]\u001b[38;5;241m.\u001b[39mindex(X)\u001b[38;5;241m<\u001b[39mB[x]\u001b[38;5;241m.\u001b[39mindex(matchings[x]):\n\u001b[1;32m     16\u001b[0m         Y\u001b[38;5;241m=\u001b[39mmatchings[x]\n",
      "\u001b[0;31mIndexError\u001b[0m: list index out of range"
     ]
    }
   ],
   "source": [
    "A=['Paul','John','Greg','Peter','Simon','David']\n",
    "B=['Beth', 'Monica','Lisa','Heather','Claire','Monica']\n",
    "\n",
    "Test_Fundamental_Algorithm(A,B)"
   ]
  },
  {
   "cell_type": "markdown",
   "id": "391e6834-e737-40cd-8496-1203ff325b1f",
   "metadata": {},
   "source": [
    "This second exampleshows that when there are two women with the same name (Monica), then again the Fundamental_Algorithm function again does not work, and they need to be distinguished in some way."
   ]
  },
  {
   "cell_type": "markdown",
   "id": "f54d622d-4101-42af-bc1c-c6a48aedf54a",
   "metadata": {},
   "source": [
    "#### Example 3"
   ]
  },
  {
   "cell_type": "code",
   "execution_count": 58,
   "id": "aa171e7a-107e-4924-a6b8-03a67861230b",
   "metadata": {},
   "outputs": [
    {
     "data": {
      "text/plain": [
       "{'Beth': 'Paul',\n",
       " 'Monica': 'Peter',\n",
       " 'Lisa': 'Greg',\n",
       " 'Heather': 'Alex',\n",
       " 'Claire': 'Simon',\n",
       " 'Alex': 'John'}"
      ]
     },
     "execution_count": 58,
     "metadata": {},
     "output_type": "execute_result"
    }
   ],
   "source": [
    "A=['Paul','John','Greg','Peter','Simon','Alex']\n",
    "B=['Beth', 'Monica','Lisa','Heather','Claire','Alex']\n",
    "\n",
    "Test_Fundamental_Algorithm(A,B)"
   ]
  },
  {
   "cell_type": "markdown",
   "id": "018989f6-8341-4287-9101-fbfc60441fb0",
   "metadata": {},
   "source": [
    "In this example, there were a man and woman both called Alex. This example shows that when there are people with the same name in diferent groups, the Fundamental_Algorithm is able to find a stable matching."
   ]
  }
 ],
 "metadata": {
  "kernelspec": {
   "display_name": "Python 3 (ipykernel)",
   "language": "python",
   "name": "python3"
  },
  "language_info": {
   "codemirror_mode": {
    "name": "ipython",
    "version": 3
   },
   "file_extension": ".py",
   "mimetype": "text/x-python",
   "name": "python",
   "nbconvert_exporter": "python",
   "pygments_lexer": "ipython3",
   "version": "3.9.10"
  }
 },
 "nbformat": 4,
 "nbformat_minor": 5
}
